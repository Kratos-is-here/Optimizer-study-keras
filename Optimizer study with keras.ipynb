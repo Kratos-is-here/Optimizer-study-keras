{
  "nbformat": 4,
  "nbformat_minor": 0,
  "metadata": {
    "kernelspec": {
      "display_name": "Python 3",
      "language": "python",
      "name": "python3"
    },
    "language_info": {
      "codemirror_mode": {
        "name": "ipython",
        "version": 3
      },
      "file_extension": ".py",
      "mimetype": "text/x-python",
      "name": "python",
      "nbconvert_exporter": "python",
      "pygments_lexer": "ipython3",
      "version": "3.7.2"
    },
    "colab": {
      "name": "Q2 - Keras-ResNet.ipynb",
      "provenance": [],
      "collapsed_sections": []
    }
  },
  "cells": [
    {
      "cell_type": "markdown",
      "metadata": {
        "id": "VaF0lpjha3j6"
      },
      "source": [
        "# Residual Networks\n",
        "\n",
        "Welcome to another tutorial! Now we will learn how to build very deep convolutional networks, using Residual Networks (ResNets). \n",
        "\n",
        "**In this assignment, we will:**\n",
        "- Implement the basic building blocks of ResNets. \n",
        "- Put together these building blocks to implement and train a state-of-the-art neural network for image classification. \n",
        "\n",
        "Let's run the cell below to load the required packages:"
      ]
    },
    {
      "cell_type": "code",
      "metadata": {
        "id": "l_F9okDGbRQc",
        "colab": {
          "base_uri": "https://localhost:8080/"
        },
        "outputId": "cdc8c5e6-d7e2-4be2-90c5-a903fe251476"
      },
      "source": [
        "from google.colab import drive\n",
        "drive.mount('/content/drive')"
      ],
      "execution_count": 14,
      "outputs": [
        {
          "output_type": "stream",
          "text": [
            "Drive already mounted at /content/drive; to attempt to forcibly remount, call drive.mount(\"/content/drive\", force_remount=True).\n"
          ],
          "name": "stdout"
        }
      ]
    },
    {
      "cell_type": "code",
      "metadata": {
        "id": "Xxb3UmiEa3kA"
      },
      "source": [
        "import os\n",
        "os.environ['CUDA_VISIBLE_DEVICES'] = '0'\n",
        "import cv2\n",
        "import numpy as np\n",
        "from keras import layers\n",
        "from keras.layers import Input, Add, Dense, Activation, ZeroPadding2D, BatchNormalization, Flatten, Conv2D, AveragePooling2D, MaxPooling2D\n",
        "from keras.models import Model, load_model\n",
        "from keras.initializers import glorot_uniform\n",
        "from keras.utils import plot_model\n",
        "from IPython.display import SVG\n",
        "from keras.utils.vis_utils import model_to_dot\n",
        "import keras.backend as K\n",
        "import tensorflow.compat.v1 as tf"
      ],
      "execution_count": 15,
      "outputs": []
    },
    {
      "cell_type": "markdown",
      "metadata": {
        "id": "97kbPhboiX7Z"
      },
      "source": [
        "Rectified Adam"
      ]
    },
    {
      "cell_type": "code",
      "metadata": {
        "id": "yZwlsPUXiW6T"
      },
      "source": [
        "# tfa.optimizers.RectifiedAdam(\n",
        "#     learning_rate: Union[FloatTensorLike, Callable, Dict] = 0.001,\n",
        "#     beta_1: tfa.types.FloatTensorLike = 0.9,\n",
        "#     beta_2: tfa.types.FloatTensorLike = 0.999,\n",
        "#     epsilon: tfa.types.FloatTensorLike = 1e-07,\n",
        "#     weight_decay: Union[FloatTensorLike, Callable, Dict] = 0.0,\n",
        "#     amsgrad: bool = False,\n",
        "#     sma_threshold: tfa.types.FloatTensorLike = 5.0,\n",
        "#     total_steps: int = 0,\n",
        "#     warmup_proportion: tfa.types.FloatTensorLike = 0.1,\n",
        "#     min_lr: tfa.types.FloatTensorLike = 0.0,\n",
        "#     name: str = 'RectifiedAdam',\n",
        "#     **kwargs\n",
        "# )"
      ],
      "execution_count": 16,
      "outputs": []
    },
    {
      "cell_type": "code",
      "metadata": {
        "id": "-AEuT_iwa3kB"
      },
      "source": [
        "ROWS = 64\n",
        "COLS = 64\n",
        "CHANNELS = 3\n",
        "CLASSES = 2"
      ],
      "execution_count": 17,
      "outputs": []
    },
    {
      "cell_type": "code",
      "metadata": {
        "id": "FjMWXdTfa3kC"
      },
      "source": [
        "def read_image(file_path):\n",
        "    img = cv2.imread(file_path, cv2.IMREAD_COLOR)\n",
        "    return cv2.resize(img, (ROWS, COLS), interpolation=cv2.INTER_CUBIC)\n",
        "\n",
        "def prepare_data(images):\n",
        "    m = len(images)\n",
        "    X = np.zeros((m, ROWS, COLS, CHANNELS), dtype=np.uint8)\n",
        "    y = np.zeros((1, m), dtype=np.uint8)\n",
        "    for i, image_file in enumerate(images):\n",
        "        X[i,:] = read_image(image_file)\n",
        "        if 'dog' in image_file.lower():\n",
        "            y[0, i] = 1\n",
        "        elif 'cat' in image_file.lower():\n",
        "            y[0, i] = 0\n",
        "    return X, y\n",
        "\n",
        "def convert_to_one_hot(Y, C):\n",
        "    Y = np.eye(C)[Y.reshape(-1)].T\n",
        "    return Y"
      ],
      "execution_count": 18,
      "outputs": []
    },
    {
      "cell_type": "markdown",
      "metadata": {
        "id": "qZi54v4Ra3kC"
      },
      "source": [
        "Run the following code to normalize the dataset and learn about its shapes:"
      ]
    },
    {
      "cell_type": "code",
      "metadata": {
        "id": "ipvZaZTYa3kD"
      },
      "source": [
        "TRAIN_DIR = '/content/drive/MyDrive/Colab Notebooks/data set/train_data/'\n",
        "TEST_DIR = '/content/drive/MyDrive/Colab Notebooks/data set/Test_data/'\n",
        "\n",
        "train_images = [TRAIN_DIR+i for i in os.listdir(TRAIN_DIR)]\n",
        "test_images =  [TEST_DIR+i for i in os.listdir(TEST_DIR)]\n",
        "\n",
        "train_set_x, train_set_y = prepare_data(train_images)\n",
        "test_set_x, test_set_y = prepare_data(test_images)\n",
        "\n",
        "X_train = train_set_x/255\n",
        "X_test = test_set_x/255\n",
        "\n",
        "Y_train = convert_to_one_hot(train_set_y, CLASSES).T\n",
        "Y_test = convert_to_one_hot(test_set_y, CLASSES).T"
      ],
      "execution_count": 19,
      "outputs": []
    },
    {
      "cell_type": "code",
      "metadata": {
        "id": "YaZsDq5Pa3kD",
        "colab": {
          "base_uri": "https://localhost:8080/"
        },
        "outputId": "b4c93c17-9dfb-428b-ab75-3405264e2513"
      },
      "source": [
        "print (\"number of training examples =\", X_train.shape[0])\n",
        "print (\"number of test examples =\", X_test.shape[0])\n",
        "print (\"X_train shape:\", X_train.shape)\n",
        "print (\"Y_train shape:\", Y_train.shape)\n",
        "print (\"X_test shape:\", X_test.shape)\n",
        "print (\"Y_test shape:\", Y_test.shape)"
      ],
      "execution_count": 20,
      "outputs": [
        {
          "output_type": "stream",
          "text": [
            "number of training examples = 552\n",
            "number of test examples = 1001\n",
            "X_train shape: (552, 64, 64, 3)\n",
            "Y_train shape: (552, 2)\n",
            "X_test shape: (1001, 64, 64, 3)\n",
            "Y_test shape: (1001, 2)\n"
          ],
          "name": "stdout"
        }
      ]
    },
    {
      "cell_type": "markdown",
      "metadata": {
        "id": "zJAXWpKpa3kE"
      },
      "source": [
        "## 2 - Building a Residual Network\n",
        "\n",
        "In ResNets, a \"shortcut\" or a \"skip connection\" allows the gradient to be directly backpropagated to earlier layers:  \n",
        "\n",
        "<img src=\"images/skip_connection.png\" style=\"width:650px;height:200px;\">\n",
        "\n",
        "Two main types of blocks are used in a ResNet, depending mainly on whether the input/output dimensions are same or different. We are going to implement both of them.\n",
        "\n",
        "#### Why do Skip Connections work?\n",
        "- They mitigate the problem of vanishing gradient by allowing this alternate shortcut path for gradient to flow through\n",
        "- They allow the model to learn an identity function which ensures that the higher layer will perform at least as good as the lower layer, and not worse"
      ]
    },
    {
      "cell_type": "markdown",
      "metadata": {
        "id": "KqvWXrOua3kE"
      },
      "source": [
        "### 2.1 - The identity block\n",
        "\n",
        "We'll implement identity block, in which the skip connection \"skips over\" 3 hidden layers rather than 2 layers. It looks like this: \n",
        "\n",
        "<img src=\"images/Identity_block2.png\" style=\"width:650px;height:150px;\">\n",
        "\n",
        "\n",
        "**Arguments**:<br>\n",
        "    X - input tensor of shape (m, n_H_prev, n_W_prev, n_C_prev)<br>\n",
        "    f - integer, specifying the shape of the middle CONV's window for the main path<br>\n",
        "    filters - python list of integers, defining the number of filters in the CONV layers of the main path<br>\n",
        "    stage - integer, used to name the layers, depending on their position in the network<br>\n",
        "    block - string/character, used to name the layers, depending on their position in the network<br>\n",
        "\n",
        "**Returns**:<br>\n",
        "    X - output of the identity block, tensor of shape (n_H, n_W, n_C)<br>"
      ]
    },
    {
      "cell_type": "code",
      "metadata": {
        "id": "1z2U3MdNa3kF"
      },
      "source": [
        "def identity_block(X, f, filters, stage, block):\n",
        "    # defining name basis\n",
        "    conv_name_base = 'res' + str(stage) + block + '_branch'\n",
        "    bn_name_base = 'bn' + str(stage) + block + '_branch'\n",
        "\n",
        "    # Retrieve Filters\n",
        "    F1, F2, F3 = filters\n",
        "\n",
        "    # Save the input value. We'll need this later to add back to the main path. \n",
        "    X_shortcut = X\n",
        "\n",
        "    # First component of main path\n",
        "    X = Conv2D(filters = F1, kernel_size = (1, 1), strides = (1,1), padding = 'valid', name = conv_name_base + '2a', kernel_initializer = glorot_uniform(seed=0))(X)\n",
        "    X = BatchNormalization(axis = 3, name = bn_name_base + '2a')(X)\n",
        "    X = Activation('relu')(X)\n",
        "\n",
        "    # Second component of main path\n",
        "    X = Conv2D(filters = F2, kernel_size = (f, f), strides = (1,1), padding = 'same', name = conv_name_base + '2b', kernel_initializer = glorot_uniform(seed=0))(X)\n",
        "    X = BatchNormalization(axis = 3, name = bn_name_base + '2b')(X)\n",
        "    X = Activation('relu')(X)\n",
        "\n",
        "    # Third component of main path\n",
        "    X = Conv2D(filters = F3, kernel_size = (1, 1), strides = (1,1), padding = 'valid', name = conv_name_base + '2c', kernel_initializer = glorot_uniform(seed=0))(X)\n",
        "    X = BatchNormalization(axis = 3, name = bn_name_base + '2c')(X)\n",
        "\n",
        "    # Final step: Add shortcut value to main path, and pass it through a RELU activation\n",
        "    X = Add()([X, X_shortcut])\n",
        "    X = Activation('relu')(X)\n",
        "\n",
        "    return X"
      ],
      "execution_count": 21,
      "outputs": []
    },
    {
      "cell_type": "code",
      "metadata": {
        "id": "SvB94y3ba3kG",
        "colab": {
          "base_uri": "https://localhost:8080/"
        },
        "outputId": "e226e9f9-f65e-479d-a5be-6592cede732e"
      },
      "source": [
        "tf.reset_default_graph()\n",
        "with tf.Session() as test:\n",
        "    A_prev = tf.placeholder(\"float\", [3, 4, 4, 6])\n",
        "    X = np.random.randn(3, 4, 4, 6)\n",
        "    A = identity_block(A_prev, f = 2, filters = [2, 4, 6], stage = 1, block = 'a')\n",
        "    test.run(tf.global_variables_initializer())\n",
        "    out = test.run([A], feed_dict={A_prev: X, K.learning_phase(): 0})\n",
        "    print(\"out = \", out[0][1][1][0])"
      ],
      "execution_count": 22,
      "outputs": [
        {
          "output_type": "stream",
          "text": [
            "out =  [0.6053482  1.9690903  1.9370009  0.13978362 0.         0.        ]\n"
          ],
          "name": "stdout"
        }
      ]
    },
    {
      "cell_type": "markdown",
      "metadata": {
        "id": "1YWmRgjta3kG"
      },
      "source": [
        "## 2.2 - The convolutional block\n",
        "\n",
        "The ResNet \"convolutional block\" is the other type of block: \n",
        "\n",
        "<img src=\"images/Identity_block3.png\" style=\"width:650px;height:150px;\">\n",
        "\n",
        "    \n",
        "**Arguments**:<br>\n",
        "    X - input tensor of shape (m, n_H_prev, n_W_prev, n_C_prev)<br>\n",
        "    f - integer, specifying the shape of the middle CONV's window for the main path<br>\n",
        "    filters - python list of integers, defining the number of filters in the CONV layers of the main path<br>\n",
        "    stage - integer, used to name the layers, depending on their position in the network<br>\n",
        "    block - string/character, used to name the layers, depending on their position in the network<br>\n",
        "    s - Integer, specifying the stride to be used<br>\n",
        "\n",
        "**Returns**:<br>\n",
        "    X - output of the convolutional block, tensor of shape (n_H, n_W, n_C)"
      ]
    },
    {
      "cell_type": "code",
      "metadata": {
        "id": "4jPJfJxZa3kH"
      },
      "source": [
        "def convolutional_block(X, f, filters, stage, block, s = 2):\n",
        "    # defining name basis\n",
        "    conv_name_base = 'res' + str(stage) + block + '_branch'\n",
        "    bn_name_base = 'bn' + str(stage) + block + '_branch'\n",
        "    \n",
        "    # Retrieve Filters\n",
        "    F1, F2, F3 = filters\n",
        "    \n",
        "    # Save the input value\n",
        "    X_shortcut = X\n",
        "\n",
        "\n",
        "    ##### MAIN PATH #####\n",
        "    # First component of main path \n",
        "    X = Conv2D(F1, (1, 1), strides = (s,s), name = conv_name_base + '2a', kernel_initializer = glorot_uniform(seed=0))(X)\n",
        "    X = BatchNormalization(axis = 3, name = bn_name_base + '2a')(X)\n",
        "    X = Activation('relu')(X)\n",
        "\n",
        "    # Second component of main path\n",
        "    X = Conv2D(filters=F2, kernel_size=(f, f), strides=(1, 1), padding='same', name=conv_name_base + '2b', kernel_initializer=glorot_uniform(seed=0))(X)\n",
        "    X = BatchNormalization(axis=3, name=bn_name_base + '2b')(X)\n",
        "    X = Activation('relu')(X)\n",
        "\n",
        "    # Third component of main path\n",
        "    X = Conv2D(filters=F3, kernel_size=(1, 1), strides=(1, 1), padding='valid', name=conv_name_base + '2c', kernel_initializer=glorot_uniform(seed=0))(X)\n",
        "    X = BatchNormalization(axis=3, name=bn_name_base + '2c')(X)\n",
        "\n",
        "    \n",
        "    ##### SHORTCUT PATH ####\n",
        "    X_shortcut = Conv2D(F3, (1, 1), strides = (s,s), name = conv_name_base + '1', kernel_initializer = glorot_uniform(seed=0))(X_shortcut)\n",
        "    X_shortcut = BatchNormalization(axis = 3, name = bn_name_base + '1')(X_shortcut)\n",
        "\n",
        "    # Final step: Add shortcut value to main path, and pass it through a RELU activation\n",
        "    X = Add()([X, X_shortcut])\n",
        "    X = Activation('relu')(X)\n",
        "    \n",
        "    return X"
      ],
      "execution_count": 23,
      "outputs": []
    },
    {
      "cell_type": "code",
      "metadata": {
        "id": "-MphTZoqa3kH",
        "colab": {
          "base_uri": "https://localhost:8080/"
        },
        "outputId": "0550e01f-f3fe-4254-cec9-3dbb50488703"
      },
      "source": [
        "tf.reset_default_graph()\n",
        "with tf.Session() as test:\n",
        "    A_prev = tf.placeholder(\"float\", [3, 4, 4, 6])\n",
        "    X = np.random.randn(3, 4, 4, 6)\n",
        "    A = convolutional_block(A_prev, f = 2, filters = [2, 4, 6], stage = 1, block = 'a')\n",
        "    test.run(tf.global_variables_initializer())\n",
        "    out = test.run([A], feed_dict={A_prev: X, K.learning_phase(): 0})\n",
        "    print(\"out = \",out[0][1][1][0])"
      ],
      "execution_count": 24,
      "outputs": [
        {
          "output_type": "stream",
          "text": [
            "out =  [1.010509   0.         0.00329628 0.09615684 0.         0.        ]\n"
          ],
          "name": "stdout"
        }
      ]
    },
    {
      "cell_type": "markdown",
      "metadata": {
        "id": "IpNf2tLya3kI"
      },
      "source": [
        "## 3 - Building our first ResNet model (50 layers)\n",
        "\n",
        "We now have the necessary blocks to build a very deep ResNet. The following figure describes in detail the architecture of this neural network. \"ID BLOCK\" in the diagram stands for \"Identity block,\" and \"ID BLOCK x3\" means you should stack 3 identity blocks together.\n",
        "\n",
        "<img src=\"images/ResNet-50.png\" style=\"width:850px;height:150px;\">\n",
        "\n",
        "The details of this ResNet-50 model are:\n",
        "- Zero-padding pads the input with a pad of (3,3)\n",
        "- Stage 1:\n",
        "    - The 2D Convolution has 64 filters of shape (7,7) and uses a stride of (2,2). Its name is \"conv1\".\n",
        "    - BatchNorm is applied to the channels axis of the input.\n",
        "    - MaxPooling uses a (3,3) window and a (2,2) stride.\n",
        "- Stage 2:\n",
        "    - The convolutional block uses three set of filters of size [64,64,256], \"f\" is 3, \"s\" is 1 and the block is \"a\".\n",
        "    - The 2 identity blocks use three set of filters of size [64,64,256], \"f\" is 3 and the blocks are \"b\" and \"c\".\n",
        "- Stage 3:\n",
        "    - The convolutional block uses three set of filters of size [128,128,512], \"f\" is 3, \"s\" is 2 and the block is \"a\".\n",
        "    - The 3 identity blocks use three set of filters of size [128,128,512], \"f\" is 3 and the blocks are \"b\", \"c\" and \"d\".\n",
        "- Stage 4:\n",
        "    - The convolutional block uses three set of filters of size [256, 256, 1024], \"f\" is 3, \"s\" is 2 and the block is \"a\".\n",
        "    - The 5 identity blocks use three set of filters of size [256, 256, 1024], \"f\" is 3 and the blocks are \"b\", \"c\", \"d\", \"e\" and \"f\".\n",
        "- Stage 5:\n",
        "    - The convolutional block uses three set of filters of size [512, 512, 2048], \"f\" is 3, \"s\" is 2 and the block is \"a\".\n",
        "    - The 2 identity blocks use three set of filters of size [512, 512, 2048], \"f\" is 3 and the blocks are \"b\" and \"c\".\n",
        "- The 2D Average Pooling uses a window of shape (2,2) and its name is \"avg_pool\".\n",
        "- The flatten doesn't have any hyperparameters or name.\n",
        "- The Fully Connected (Dense) layer reduces its input to the number of classes using a softmax activation. Its name should be `'fc' + str(classes)`.\n",
        "\n",
        "So we will implement the ResNet with 50 layers described in the figure above into following architecture:<br>\n",
        "    CONV2D -> BATCHNORM -> RELU -> MAXPOOL -> CONVBLOCK -> IDBLOCK*2 -> CONVBLOCK -> IDBLOCK*3\n",
        "    -> CONVBLOCK -> IDBLOCK*5 -> CONVBLOCK -> IDBLOCK*2 -> AVGPOOL -> TOPLAYER\n",
        "\n",
        "**Arguments**:<br>\n",
        "    input_shape - shape of the images of the dataset<br>\n",
        "    classes - integer, number of classes<br>\n",
        "\n",
        "**Returns**:<br>\n",
        "    model - a Model() instance in Keras<br>"
      ]
    },
    {
      "cell_type": "code",
      "metadata": {
        "id": "jALS1isHa3kI"
      },
      "source": [
        "def ResNet50(input_shape = (64, 64, 3), classes = 2):   \n",
        "    # Define the input as a tensor with shape input_shape\n",
        "    X_input = Input(input_shape)\n",
        "\n",
        "    # Zero-Padding\n",
        "    X = ZeroPadding2D((3, 3))(X_input)\n",
        "    \n",
        "    # Stage 1\n",
        "    X = Conv2D(64, (7, 7), strides = (2, 2), name = 'conv1', kernel_initializer = glorot_uniform(seed=0))(X)\n",
        "    X = BatchNormalization(axis = 3, name = 'bn_conv1')(X)\n",
        "    X = Activation('relu')(X)\n",
        "    X = MaxPooling2D((3, 3), strides=(2, 2))(X)\n",
        "\n",
        "    # Stage 2\n",
        "    X = convolutional_block(X, f = 3, filters = [64, 64, 256], stage = 2, block='a', s = 1)\n",
        "    X = identity_block(X, 3, [64, 64, 256], stage=2, block='b')\n",
        "    X = identity_block(X, 3, [64, 64, 256], stage=2, block='c')\n",
        "\n",
        "    # Stage 3\n",
        "    X = convolutional_block(X, f = 3, filters = [128, 128, 512], stage = 3, block='a', s = 2)\n",
        "    X = identity_block(X, 3, [128, 128, 512], stage=3, block='b')\n",
        "    X = identity_block(X, 3, [128, 128, 512], stage=3, block='c')\n",
        "    X = identity_block(X, 3, [128, 128, 512], stage=3, block='d')\n",
        "\n",
        "    # Stage 4\n",
        "    X = convolutional_block(X, f = 3, filters = [256, 256, 1024], stage = 4, block='a', s = 2)\n",
        "    X = identity_block(X, 3, [256, 256, 1024], stage=4, block='b')\n",
        "    X = identity_block(X, 3, [256, 256, 1024], stage=4, block='c')\n",
        "    X = identity_block(X, 3, [256, 256, 1024], stage=4, block='d')\n",
        "    X = identity_block(X, 3, [256, 256, 1024], stage=4, block='e')\n",
        "    X = identity_block(X, 3, [256, 256, 1024], stage=4, block='f')\n",
        "\n",
        "    # Stage 5\n",
        "    X = convolutional_block(X, f = 3, filters = [512, 512, 2048], stage = 5, block='a', s = 2)\n",
        "    X = identity_block(X, 3, [512, 512, 2048], stage=5, block='b')\n",
        "    X = identity_block(X, 3, [512, 512, 2048], stage=5, block='c')\n",
        "\n",
        "    # AVGPOOL.\n",
        "    X = AveragePooling2D((2, 2), name='avg_pool')(X)\n",
        "\n",
        "    # output layer\n",
        "    X = Flatten()(X)\n",
        "    X = Dense(classes, activation='softmax', name='fc' + str(classes), kernel_initializer = glorot_uniform(seed=0))(X)\n",
        "    \n",
        "    # Create model\n",
        "    model = Model(inputs = X_input, outputs = X, name='ResNet50')\n",
        "\n",
        "    return model"
      ],
      "execution_count": 25,
      "outputs": []
    },
    {
      "cell_type": "markdown",
      "metadata": {
        "id": "IOkDml01a3kJ"
      },
      "source": [
        "Run the following code to build the model's graph:"
      ]
    },
    {
      "cell_type": "code",
      "metadata": {
        "id": "sTaeBPs8a3kJ"
      },
      "source": [
        "model = ResNet50(input_shape = (ROWS, COLS, CHANNELS), classes = CLASSES)"
      ],
      "execution_count": 26,
      "outputs": []
    },
    {
      "cell_type": "markdown",
      "metadata": {
        "id": "urfjT-rga3kJ"
      },
      "source": [
        "Now we need to configure the learning process by compiling the model."
      ]
    },
    {
      "cell_type": "code",
      "metadata": {
        "id": "rrQEJyC7a3kK"
      },
      "source": [
        "model.compile(optimizer='adam', loss='categorical_crossentropy', metrics=['accuracy'])\n",
        "# model.compile(optimizer='RectifiedAdam', loss='categorical_crossentropy', metrics=['accuracy'])\n",
        "# model.compile(optimizer='RMSprop', loss='categorical_crossentropy', metrics=['accuracy'])\n",
        "# model.compile(optimizer='Adadelta, loss='categorical_crossentropy', metrics=['accuracy'])\n",
        "# model.compile(optimizer='Adagrad', loss= 'categorical_crossentropy', metrics=['accuracy'])\n",
        "# model.compile(optimizer='Adamax', loss='categorical_crossentropy', metrics=['accuracy'])\n",
        "# model.compile(optimizer='Nadam', loss='categorical_crossentropy', metrics=['accuracy'])"
      ],
      "execution_count": 27,
      "outputs": []
    },
    {
      "cell_type": "markdown",
      "metadata": {
        "id": "pmuOKQYEa3kK"
      },
      "source": [
        "The model is now ready to be trained. Run the following cell to train your model on 100 epochs with a batch size of 64:"
      ]
    },
    {
      "cell_type": "code",
      "metadata": {
        "id": "5H9Hn6nra3kK",
        "colab": {
          "base_uri": "https://localhost:8080/"
        },
        "outputId": "923bd5f7-99f3-4cf3-b9fa-9afe10b5fbd7"
      },
      "source": [
        "model.fit(X_train, Y_train, epochs = 10, batch_size = 64)"
      ],
      "execution_count": null,
      "outputs": [
        {
          "output_type": "stream",
          "text": [
            "Epoch 1/10\n",
            "9/9 [==============================] - 87s 10s/step - loss: 1.5726 - accuracy: 0.4909\n",
            "Epoch 2/10\n",
            "9/9 [==============================] - 88s 10s/step - loss: 1.1481 - accuracy: 0.5054\n",
            "Epoch 3/10\n",
            "9/9 [==============================] - 90s 10s/step - loss: 0.7506 - accuracy: 0.6250\n",
            "Epoch 4/10\n",
            "9/9 [==============================] - 90s 10s/step - loss: 0.4944 - accuracy: 0.8080\n",
            "Epoch 5/10\n",
            "9/9 [==============================] - 88s 10s/step - loss: 0.2585 - accuracy: 0.9221\n",
            "Epoch 6/10\n",
            "9/9 [==============================] - 88s 10s/step - loss: 0.5848 - accuracy: 0.8986\n",
            "Epoch 7/10\n",
            "9/9 [==============================] - 86s 10s/step - loss: 0.5074 - accuracy: 0.8605\n",
            "Epoch 8/10\n",
            "3/9 [=========>....................] - ETA: 1:01 - loss: 0.3742 - accuracy: 0.9531"
          ],
          "name": "stdout"
        }
      ]
    },
    {
      "cell_type": "markdown",
      "metadata": {
        "id": "56lA_jnZa3kK"
      },
      "source": [
        "Let's see how this model performs on the test set."
      ]
    },
    {
      "cell_type": "code",
      "metadata": {
        "id": "5GIjkaXua3kL"
      },
      "source": [
        "preds = model.evaluate(X_test, Y_test)\n",
        "print (\"Loss = \" + str(preds[0]))\n",
        "print (\"Test Accuracy = \" + str(preds[1]))"
      ],
      "execution_count": null,
      "outputs": []
    },
    {
      "cell_type": "markdown",
      "metadata": {
        "id": "wloga0h6a3kL"
      },
      "source": [
        "We can also print a summary of our model by running the following code:"
      ]
    },
    {
      "cell_type": "code",
      "metadata": {
        "id": "d0TgfFGFa3kL"
      },
      "source": [
        "model.summary()"
      ],
      "execution_count": null,
      "outputs": []
    },
    {
      "cell_type": "markdown",
      "metadata": {
        "id": "Yda0prbia3kL"
      },
      "source": [
        "For future use we can save our model to file:"
      ]
    },
    {
      "cell_type": "code",
      "metadata": {
        "id": "vE4lJvEja3kM"
      },
      "source": [
        "model.save('ResNet50.h5')"
      ],
      "execution_count": null,
      "outputs": []
    },
    {
      "cell_type": "markdown",
      "metadata": {
        "id": "OfA1sdQPa3kM"
      },
      "source": [
        "Finally, we can run the code below to visualize our ResNet50:"
      ]
    },
    {
      "cell_type": "code",
      "metadata": {
        "id": "gFyK_tWGa3kM"
      },
      "source": [
        "plot_model(model, to_file='model.png')\n",
        "SVG(model_to_dot(model).create(prog='dot', format='svg'))"
      ],
      "execution_count": null,
      "outputs": []
    },
    {
      "cell_type": "code",
      "metadata": {
        "id": "K2X0sjtsa3kM"
      },
      "source": [
        ""
      ],
      "execution_count": null,
      "outputs": []
    }
  ]
}